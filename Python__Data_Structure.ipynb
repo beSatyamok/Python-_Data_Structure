{
  "nbformat": 4,
  "nbformat_minor": 0,
  "metadata": {
    "colab": {
      "provenance": []
    },
    "kernelspec": {
      "name": "python3",
      "display_name": "Python 3"
    },
    "language_info": {
      "name": "python"
    }
  },
  "cells": [
    {
      "cell_type": "markdown",
      "source": [
        "**Data Types and Structures Questions**\n",
        "\n",
        "---\n",
        "\n",
        "1. What are data structures, and why are they important?\n",
        "\n",
        "Ans: Data structures are ways of organizing and storing data so that it can be accessed and modified efficiently.\n",
        "\n",
        "* Examples: lists, tuples, sets, dictionaries.\n",
        "\n",
        "* Importance: They affect the performance (speed, memory use) of algorithms and make solving problems easier."
      ],
      "metadata": {
        "id": "IUMBN0uHs7dt"
      }
    },
    {
      "cell_type": "code",
      "execution_count": null,
      "metadata": {
        "id": "PuFRlHAhsvzA"
      },
      "outputs": [],
      "source": [
        "# 2.Explain the difference between mutable and immutable data types with examples.\n",
        "'Mutable → can be changed after creation.'\n",
        "# Example:\n",
        "my_list = [1, 2, 3]\n",
        "my_list[0] = 10   # allowed\n",
        "print(my_list)  # [10, 2, 3]\n",
        "'Immutable → cannot be changed after creation.'\n",
        "# Example:\n",
        "my_tuple = (1, 2, 3)\n",
        "# my_tuple[0] = 10 → ERROR"
      ]
    },
    {
      "cell_type": "markdown",
      "source": [
        "3.What are the main differences between lists and tuples in Python?\n",
        "\n",
        "Ans:\n",
        "\n",
        "* Lists: mutable, slower, written as [ ].\n",
        "\n",
        "* Tuples: immutable, faster, written as ( ).\n",
        "\n",
        "* Use tuple when data should not change; use list when it should."
      ],
      "metadata": {
        "id": "X-ImBGfOwWhz"
      }
    },
    {
      "cell_type": "code",
      "source": [
        "# 4.Describe how dictionaries store data.\n",
        "'Dictionaries store data as key–value pairs using a hash table internally.'\n",
        "# Example:\n",
        "student = {\"name\": \"Alex\", \"age\": 21}\n",
        "\n",
        "''' \"name\" → key\n",
        "    \"Alex\" → value'''"
      ],
      "metadata": {
        "id": "zZ7go2-bwVgN"
      },
      "execution_count": null,
      "outputs": []
    },
    {
      "cell_type": "markdown",
      "source": [
        "5. Why might you use a set instead of a list in Python?\n",
        "\n",
        "Ans:\n",
        "\n",
        "* A set automatically removes duplicates.\n",
        "\n",
        "* Membership checks (in) are faster in sets than in lists.\n",
        "\n",
        "---\n",
        "\n",
        "\n",
        "\n",
        "6. What is a string in Python, and how is it different from a list?\n",
        "\n",
        "Ans:\n",
        "\n",
        "* A string is a sequence of characters: \"hello\".\n",
        "\n",
        "* Strings are immutable.\n",
        "\n",
        "* Lists can hold different data types and are mutable.\n",
        "\n",
        "---\n",
        "\n",
        "7. How do tuples ensure data integrity in Python?\n",
        "\n",
        "Ans: Tuples are immutable, meaning data cannot be accidentally changed after creation. This ensures consistency and integrity.\n",
        "\n",
        "---\n",
        "8. What is a hash table, and how does it relate to dictionaries in Python?\n",
        "\n",
        "Ans:\n",
        "\n",
        "* A hash table maps keys to indexes using a hash function.\n",
        "\n",
        "* Python dictionaries use hash tables internally to store and retrieve key–value pairs efficiently."
      ],
      "metadata": {
        "id": "x092QmmZxGnK"
      }
    },
    {
      "cell_type": "code",
      "source": [
        "# 9. Can lists contain different data types in Python?\n",
        "'Yes'\n",
        "# Example:\n",
        "mixed_list = [1, \"hello\", 3.14, True]"
      ],
      "metadata": {
        "id": "nKbn0RxpyXZX"
      },
      "execution_count": null,
      "outputs": []
    },
    {
      "cell_type": "markdown",
      "source": [
        "10.Explain why strings are immutable in Python.\n",
        "\n",
        "Ans:\n",
        "\n",
        "* Strings are immutable to save memory and improve performance (since they are used heavily).\n",
        "\n",
        "* Also allows hashing (so strings can be dictionary keys).\n",
        "\n",
        "---\n",
        "\n",
        "11.What advantages do dictionaries offer over lists for certain tasks?\n",
        "\n",
        "Ans:\n",
        "\n",
        "* Fast lookups by key.\n",
        "\n",
        "* More descriptive (key names explain data better than indexes).\n",
        "\n",
        "* Example: student[\"age\"] is clearer than student_data[1].\n",
        "\n",
        "---\n",
        "\n",
        "12.Describe a scenario where using a tuple would be preferable over a list.\n",
        "\n",
        "Ans: When storing fixed, unchangeable data:\n",
        "\n",
        "* Example: Storing coordinates (x, y) or dates (day, month, year)."
      ],
      "metadata": {
        "id": "nUenqd7Jyrim"
      }
    },
    {
      "cell_type": "code",
      "source": [
        "# 13. How do sets handle duplicate values in Python?\n",
        "'Ans: Sets automatically remove duplicates'\n",
        "# Example:\n",
        "s = {1, 2, 2, 3}\n",
        "print(s)  # {1, 2, 3}"
      ],
      "metadata": {
        "id": "QkeXW6WPzcwl"
      },
      "execution_count": null,
      "outputs": []
    },
    {
      "cell_type": "code",
      "source": [
        "# 14. How does the “in” keyword work differently for lists and dictionaries?\n",
        "'Ans: For lists: checks if a value is present.'\n",
        "#Example:\n",
        "2 in [1,2,3]  # True\n",
        "\n",
        "'For dicts: checks if a key exists.'\n",
        "# Example:\n",
        "\"name\" in {\"name\": \"Alex\"}  # True"
      ],
      "metadata": {
        "id": "jzuq056vztsT"
      },
      "execution_count": null,
      "outputs": []
    },
    {
      "cell_type": "markdown",
      "source": [
        "15. Can you modify the elements of a tuple? Why or why not?\n",
        "\n",
        "Ans: No, because tuples are immutable. Once created, elements cannot be changed."
      ],
      "metadata": {
        "id": "Jhj1zgIK0Noy"
      }
    },
    {
      "cell_type": "code",
      "source": [
        "# 16. What is a nested dictionary, and give an example of its use case?\n",
        "'Ans: A nested dictionary is a dictionary that contains another dictionary as a value.'\n",
        "# Example:\n",
        "students = {\n",
        "  \"A101\": {\"name\": \"Alex\", \"age\": 21},\n",
        "  \"A102\": {\"name\": \"Mia\", \"age\": 22}\n",
        "}\n",
        "'Useful for storing structured data (like database records).'"
      ],
      "metadata": {
        "id": "nDXFC3Fv00JZ"
      },
      "execution_count": null,
      "outputs": []
    },
    {
      "cell_type": "markdown",
      "source": [
        "17.Describe the time complexity of accessing elements in a dictionary.\n",
        "\n",
        "Ans:\n",
        "\n",
        "* Average case: O(1) (constant time).\n",
        "\n",
        "* Worst case: O(n) (rare, when hash collisions happen).\n",
        "\n",
        "---\n",
        "\n",
        "18.In what situations are lists preferred over dictionaries?\n",
        "\n",
        "Ans:\n",
        "\n",
        "* When order matters.\n",
        "\n",
        "* When you only need to store sequences of items, not key–value pairs.\n",
        "\n",
        "---\n",
        "19. Why are dictionaries considered unordered, and how does that affect retrieval?\n",
        "\n",
        "Ans:\n",
        "\n",
        "* Before Python 3.7, dictionaries had no guaranteed order.\n",
        "\n",
        "* From 3.7+, insertion order is preserved, but conceptually, they are still key–based, not position-based.\n",
        "\n",
        "* Retrieval is by key, not index.\n",
        "\n",
        "---\n",
        "20.Explain the difference between a list and a dictionary in terms of data retrieval.\n",
        "\n",
        "Ans:\n",
        "\n",
        "* List → access by index: my_list[0].\n",
        "\n",
        "* Dictionary → access by key: my_dict[\"name\"]."
      ],
      "metadata": {
        "id": "5Vyi99kO1NDQ"
      }
    },
    {
      "cell_type": "markdown",
      "source": [
        "**Practical Questions**\n",
        "\n",
        "---\n",
        "\n"
      ],
      "metadata": {
        "id": "47-AwcIB82O9"
      }
    },
    {
      "cell_type": "code",
      "source": [
        "# 1. Write a code to create a string with your name and print it.\n",
        "name = \"Sattu\"\n",
        "print(name)"
      ],
      "metadata": {
        "id": "BiGt4GzH-QCq"
      },
      "execution_count": null,
      "outputs": []
    },
    {
      "cell_type": "code",
      "source": [
        "# 2. Write a code to find the length of the string \"Hello World\"?\n",
        "string = \"Hello World\"\n",
        "print(len(string))"
      ],
      "metadata": {
        "id": "Qjebq45p-fHl"
      },
      "execution_count": null,
      "outputs": []
    },
    {
      "cell_type": "code",
      "source": [
        "# 3. Write a code to slice the first 3 characters from the string \"Python Programming\"?\n",
        "string = \"Python Programming\"\n",
        "print(string[:3])"
      ],
      "metadata": {
        "id": "BlWk1ghf-so3"
      },
      "execution_count": null,
      "outputs": []
    },
    {
      "cell_type": "code",
      "source": [
        "# 4. Write a code to convert the string \"hello\" to uppercase.\n",
        "string = \"hello\"\n",
        "print(string.upper())"
      ],
      "metadata": {
        "id": "AS-tMC0o-4h2"
      },
      "execution_count": null,
      "outputs": []
    },
    {
      "cell_type": "code",
      "source": [
        "# 5. Write a code to replace the word \"apple\" with \"orange\" in the string \"I like apple\"?\n",
        "sentence = \"I like apple\"\n",
        "print(sentence.replace(\"apple\", \"orange\"))"
      ],
      "metadata": {
        "id": "joZpEXwE_LPs"
      },
      "execution_count": null,
      "outputs": []
    },
    {
      "cell_type": "code",
      "source": [
        "# 6. Write a code to create a list with numbers 1 to 5 and print it.\n",
        "my_list = [1, 2, 3, 4, 5]\n",
        "print(my_list)"
      ],
      "metadata": {
        "id": "ll04ogMR_ZSC"
      },
      "execution_count": null,
      "outputs": []
    },
    {
      "cell_type": "code",
      "source": [
        "# 7. Write a code to append the number 10 to the list [1, 2, 3, 4]?\n",
        "my_list = [1, 2, 3, 4]\n",
        "my_list.append(10)\n",
        "print(my_list)"
      ],
      "metadata": {
        "id": "zEjIJe61_ivn"
      },
      "execution_count": null,
      "outputs": []
    },
    {
      "cell_type": "code",
      "source": [
        "# 8. Write a code to remove the number 3 from the list [1, 2, 3, 4, 5]?\n",
        "my_list = [1, 2, 3, 4, 5]\n",
        "my_list.remove(3)\n",
        "print(my_list)"
      ],
      "metadata": {
        "id": "wqYh0ZLG_p1w"
      },
      "execution_count": null,
      "outputs": []
    },
    {
      "cell_type": "code",
      "source": [
        "# 9.  Write a code to access the second element in the list ['a', 'b', 'c', 'd'].\n",
        "my_list = ['a', 'b', 'c', 'd']\n",
        "print(my_list[1])"
      ],
      "metadata": {
        "id": "xujQizjb_5Lj"
      },
      "execution_count": null,
      "outputs": []
    },
    {
      "cell_type": "code",
      "source": [
        "# 10. Write a code to reverse the list [10, 20, 30, 40, 50].\n",
        "lst = [10, 20, 30, 40, 50]\n",
        "lst.reverse()\n",
        "print(lst)   # Output: [50, 40, 30, 20, 10]"
      ],
      "metadata": {
        "id": "v1fiZuFGAAzs"
      },
      "execution_count": null,
      "outputs": []
    },
    {
      "cell_type": "code",
      "source": [
        "# 11. Write a code to create a tuple with the elements 100, 200, 300 and print it.\n",
        "my_tuple = (100, 200, 300)\n",
        "print(my_tuple)"
      ],
      "metadata": {
        "id": "2GS9ZPDKATLP"
      },
      "execution_count": null,
      "outputs": []
    },
    {
      "cell_type": "code",
      "source": [
        "# 12. Write a code to access the second-to-last element of the tuple ('red', 'green', 'blue', 'yellow').\n",
        "colors = ('red', 'green', 'blue', 'yellow')\n",
        "print(colors[-2])"
      ],
      "metadata": {
        "id": "wtJnQi48AXjo"
      },
      "execution_count": null,
      "outputs": []
    },
    {
      "cell_type": "code",
      "source": [
        "# 13. Write a code to find the minimum number in the tuple (10, 20, 5, 15).\n",
        "nums = (10, 20, 5, 15)\n",
        "print(min(nums))"
      ],
      "metadata": {
        "id": "Lnwottl7AkZ-"
      },
      "execution_count": null,
      "outputs": []
    },
    {
      "cell_type": "code",
      "source": [
        "# 14. Write a code to find the index of the element \"cat\" in the tuple ('dog', 'cat', 'rabbit').\n",
        "animals = ('dog', 'cat', 'rabbit')\n",
        "print(animals.index('cat'))"
      ],
      "metadata": {
        "id": "yas2v4cIAvUT"
      },
      "execution_count": null,
      "outputs": []
    },
    {
      "cell_type": "code",
      "source": [
        "# 15. Write a code to create a tuple containing three different fruits and check if \"kiwi\" is in it.\n",
        "fruits = (\"apple\", \"banana\", \"mango\")\n",
        "print(\"kiwi\" in fruits)"
      ],
      "metadata": {
        "id": "_C1Q27dpA2D7"
      },
      "execution_count": null,
      "outputs": []
    },
    {
      "cell_type": "code",
      "source": [
        "# 16. Write a code to create a set with the elements 'a', 'b', 'c' and print it.\n",
        "my_set = {'a', 'b', 'c'}\n",
        "print(my_set)"
      ],
      "metadata": {
        "id": "wZeVYML7BA3t"
      },
      "execution_count": null,
      "outputs": []
    },
    {
      "cell_type": "code",
      "source": [
        "# 17. Write a code to clear all elements from the set {1, 2, 3, 4, 5}.\n",
        "my_set = {1, 2, 3, 4, 5}\n",
        "my_set.clear()\n",
        "print(my_set)"
      ],
      "metadata": {
        "id": "wkLPuAXfBEqL"
      },
      "execution_count": null,
      "outputs": []
    },
    {
      "cell_type": "code",
      "source": [
        "# 18. Write a code to remove the element 4 from the set {1, 2, 3, 4}\n",
        "my_set = {1, 2, 3, 4}\n",
        "my_set.remove(4)\n",
        "print(my_set)"
      ],
      "metadata": {
        "id": "y0O0JXy3BOZz"
      },
      "execution_count": null,
      "outputs": []
    },
    {
      "cell_type": "code",
      "source": [
        "# 19. Write a code to find the union of two sets {1, 2, 3} and {3, 4, 5}.\n",
        "a = {1, 2, 3}\n",
        "b = {3, 4, 5}\n",
        "print(a.union(b))"
      ],
      "metadata": {
        "id": "7ZvZgZ2zBWyb"
      },
      "execution_count": null,
      "outputs": []
    },
    {
      "cell_type": "code",
      "source": [
        "# 20. Write a code to find the intersection of two sets {1, 2, 3} and {2, 3, 4}.\n",
        "a = {1, 2, 3}\n",
        "b = {2, 3, 4}\n",
        "print(a.intersection(b))"
      ],
      "metadata": {
        "id": "3wgt14EbBgE9"
      },
      "execution_count": null,
      "outputs": []
    },
    {
      "cell_type": "code",
      "source": [
        "# 21. Write a code to create a dictionary with the keys \"name\", \"age\", and \"city\", and print it.\n",
        "person = {\"name\": \"John\", \"age\": 25, \"city\": \"New York\"}\n",
        "print(person)"
      ],
      "metadata": {
        "id": "0SfAvz5PBmx4"
      },
      "execution_count": null,
      "outputs": []
    },
    {
      "cell_type": "code",
      "source": [
        "# 22. Write a code to add a new key-value pair \"country\": \"USA\" to the dictionary {'name': 'John', 'age': 25}.\n",
        "person = {'name': 'John', 'age': 25}\n",
        "person[\"country\"] = \"USA\"\n",
        "print(person)"
      ],
      "metadata": {
        "id": "ePb0ZUHqBuo_"
      },
      "execution_count": null,
      "outputs": []
    },
    {
      "cell_type": "code",
      "source": [
        "# 23. Write a code to access the value associated with the key \"name\" in the dictionary {'name': 'Alice', 'age': 30}.\n",
        "person = {'name': 'Alice', 'age': 30}\n",
        "print(person[\"name\"])"
      ],
      "metadata": {
        "id": "FvNZdB8IB0bA"
      },
      "execution_count": null,
      "outputs": []
    },
    {
      "cell_type": "code",
      "source": [
        "# 24. Write a code to remove the key \"age\" from the dictionary {'name': 'Bob', 'age': 22, 'city': 'New York'}.\n",
        "person = {'name': 'Bob', 'age': 22, 'city': 'New York'}\n",
        "del person[\"age\"]\n",
        "print(person)"
      ],
      "metadata": {
        "id": "bBiMmdZRB7uy"
      },
      "execution_count": null,
      "outputs": []
    },
    {
      "cell_type": "code",
      "source": [
        "# 25. Write a code to check if the key \"city\" exists in the dictionary {'name': 'Alice', 'city': 'Paris'}.\n",
        "person = {'name': 'Alice', 'city': 'Paris'}\n",
        "print(\"city\" in person)"
      ],
      "metadata": {
        "id": "O3-scj1FB-iW"
      },
      "execution_count": null,
      "outputs": []
    },
    {
      "cell_type": "code",
      "source": [
        "# 26. Write a code to create a list, a tuple, and a dictionary, and print them all.\n",
        "my_list = [1, 2, 3]\n",
        "my_tuple = (4, 5, 6)\n",
        "my_dict = {\"a\": 10, \"b\": 20}\n",
        "print(my_list, my_tuple, my_dict)"
      ],
      "metadata": {
        "id": "70nAbf-ACH13"
      },
      "execution_count": null,
      "outputs": []
    },
    {
      "cell_type": "code",
      "source": [
        "# 27. Write a code to create a list of 5 random numbers between 1 and 100, sort it in ascending order, and print the result.\n",
        "import random\n",
        "nums = [random.randint(1, 100) for _ in range(5)]\n",
        "nums.sort()\n",
        "print(nums)"
      ],
      "metadata": {
        "id": "DXhoJ4bpCNNW"
      },
      "execution_count": null,
      "outputs": []
    },
    {
      "cell_type": "code",
      "source": [
        "# 28. Write a code to create a list with strings and print the element at the third index.\n",
        "words = [\"apple\", \"banana\", \"cherry\", \"date\", \"mango\"]\n",
        "print(words[3])"
      ],
      "metadata": {
        "id": "37tWIJG0CeiA"
      },
      "execution_count": null,
      "outputs": []
    },
    {
      "cell_type": "code",
      "source": [
        "# 29. Write a code to combine two dictionaries into one and print the result.\n",
        "dict1 = {\"a\": 1, \"b\": 2}\n",
        "dict2 = {\"c\": 3, \"d\": 4}\n",
        "combined = {**dict1, **dict2}\n",
        "print(combined)"
      ],
      "metadata": {
        "id": "FpCtZ_wSCkgm"
      },
      "execution_count": null,
      "outputs": []
    },
    {
      "cell_type": "code",
      "source": [
        "# 30. Write a code to convert a list of strings into a set.\n",
        "words = [\"apple\", \"banana\", \"apple\", \"cherry\"]\n",
        "word_set = set(words)\n",
        "print(word_set)"
      ],
      "metadata": {
        "id": "0yESAdKVCzQ1"
      },
      "execution_count": null,
      "outputs": []
    }
  ]
}